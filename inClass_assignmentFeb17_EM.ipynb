{
 "cells": [
  {
   "cell_type": "code",
   "execution_count": 2,
   "id": "7e081534",
   "metadata": {},
   "outputs": [
    {
     "name": "stdout",
     "output_type": "stream",
     "text": [
      "[{\"date\":\"2017-01-01\",\"localName\":\"Neujahr\",\"name\":\"New Year's Day\",\"countryCode\":\"AT\",\"fixed\":true,\"global\":true,\"counties\":null,\"launchYear\":1967,\"types\":[\"Public\"]},{\"date\":\"2017-01-06\",\"localName\":\"Heilige Drei Könige\",\"name\":\"Epiphany\",\"countryCode\":\"AT\",\"fixed\":true,\"global\":true,\"counties\":null,\"launchYear\":null,\"types\":[\"Public\"]},{\"date\":\"2017-04-17\",\"localName\":\"Ostermontag\",\"name\":\"Easter Monday\",\"countryCode\":\"AT\",\"fixed\":false,\"global\":true,\"counties\":null,\"launchYear\":1642,\"types\":[\"Public\"]},{\"date\":\"2017-05-01\",\"localName\":\"Staatsfeiertag\",\"name\":\"National Holiday\",\"countryCode\":\"AT\",\"fixed\":true,\"global\":true,\"counties\":null,\"launchYear\":1955,\"types\":[\"Public\"]},{\"date\":\"2017-05-25\",\"localName\":\"Christi Himmelfahrt\",\"name\":\"Ascension Day\",\"countryCode\":\"AT\",\"fixed\":false,\"global\":true,\"counties\":null,\"launchYear\":null,\"types\":[\"Public\"]},{\"date\":\"2017-06-05\",\"localName\":\"Pfingstmontag\",\"name\":\"Whit Monday\",\"countryCode\":\"AT\",\"fixed\":false,\"global\":true,\"counties\":null,\"launchYear\":null,\"types\":[\"Public\"]},{\"date\":\"2017-06-15\",\"localName\":\"Fronleichnam\",\"name\":\"Corpus Christi\",\"countryCode\":\"AT\",\"fixed\":false,\"global\":true,\"counties\":null,\"launchYear\":null,\"types\":[\"Public\"]},{\"date\":\"2017-08-15\",\"localName\":\"Maria Himmelfahrt\",\"name\":\"Assumption Day\",\"countryCode\":\"AT\",\"fixed\":true,\"global\":true,\"counties\":null,\"launchYear\":null,\"types\":[\"Public\"]},{\"date\":\"2017-10-26\",\"localName\":\"Nationalfeiertag\",\"name\":\"National Holiday\",\"countryCode\":\"AT\",\"fixed\":true,\"global\":true,\"counties\":null,\"launchYear\":null,\"types\":[\"Public\"]},{\"date\":\"2017-11-01\",\"localName\":\"Allerheiligen\",\"name\":\"All Saints' Day\",\"countryCode\":\"AT\",\"fixed\":true,\"global\":true,\"counties\":null,\"launchYear\":null,\"types\":[\"Public\"]},{\"date\":\"2017-12-08\",\"localName\":\"Mariä Empfängnis\",\"name\":\"Immaculate Conception\",\"countryCode\":\"AT\",\"fixed\":true,\"global\":true,\"counties\":null,\"launchYear\":null,\"types\":[\"Public\"]},{\"date\":\"2017-12-25\",\"localName\":\"Weihnachten\",\"name\":\"Christmas Day\",\"countryCode\":\"AT\",\"fixed\":true,\"global\":true,\"counties\":null,\"launchYear\":null,\"types\":[\"Public\"]},{\"date\":\"2017-12-26\",\"localName\":\"Stefanitag\",\"name\":\"St. Stephen's Day\",\"countryCode\":\"AT\",\"fixed\":true,\"global\":true,\"counties\":null,\"launchYear\":null,\"types\":[\"Public\"]}]\n"
     ]
    }
   ],
   "source": [
    "import requests\n",
    "import json\n",
    "\n",
    "url = 'https://date.nager.at/api/v3/publicholidays/2017/AT'\n",
    "r = requests.get(url)\n",
    "print(r.text)"
   ]
  },
  {
   "cell_type": "code",
   "execution_count": 3,
   "id": "d4f3ad0e",
   "metadata": {},
   "outputs": [
    {
     "name": "stdout",
     "output_type": "stream",
     "text": [
      "[{'date': '2017-01-01', 'localName': 'Neujahr', 'name': \"New Year's Day\", 'countryCode': 'AT', 'fixed': True, 'global': True, 'counties': None, 'launchYear': 1967, 'types': ['Public']}, {'date': '2017-01-06', 'localName': 'Heilige Drei Könige', 'name': 'Epiphany', 'countryCode': 'AT', 'fixed': True, 'global': True, 'counties': None, 'launchYear': None, 'types': ['Public']}, {'date': '2017-04-17', 'localName': 'Ostermontag', 'name': 'Easter Monday', 'countryCode': 'AT', 'fixed': False, 'global': True, 'counties': None, 'launchYear': 1642, 'types': ['Public']}, {'date': '2017-05-01', 'localName': 'Staatsfeiertag', 'name': 'National Holiday', 'countryCode': 'AT', 'fixed': True, 'global': True, 'counties': None, 'launchYear': 1955, 'types': ['Public']}, {'date': '2017-05-25', 'localName': 'Christi Himmelfahrt', 'name': 'Ascension Day', 'countryCode': 'AT', 'fixed': False, 'global': True, 'counties': None, 'launchYear': None, 'types': ['Public']}, {'date': '2017-06-05', 'localName': 'Pfingstmontag', 'name': 'Whit Monday', 'countryCode': 'AT', 'fixed': False, 'global': True, 'counties': None, 'launchYear': None, 'types': ['Public']}, {'date': '2017-06-15', 'localName': 'Fronleichnam', 'name': 'Corpus Christi', 'countryCode': 'AT', 'fixed': False, 'global': True, 'counties': None, 'launchYear': None, 'types': ['Public']}, {'date': '2017-08-15', 'localName': 'Maria Himmelfahrt', 'name': 'Assumption Day', 'countryCode': 'AT', 'fixed': True, 'global': True, 'counties': None, 'launchYear': None, 'types': ['Public']}, {'date': '2017-10-26', 'localName': 'Nationalfeiertag', 'name': 'National Holiday', 'countryCode': 'AT', 'fixed': True, 'global': True, 'counties': None, 'launchYear': None, 'types': ['Public']}, {'date': '2017-11-01', 'localName': 'Allerheiligen', 'name': \"All Saints' Day\", 'countryCode': 'AT', 'fixed': True, 'global': True, 'counties': None, 'launchYear': None, 'types': ['Public']}, {'date': '2017-12-08', 'localName': 'Mariä Empfängnis', 'name': 'Immaculate Conception', 'countryCode': 'AT', 'fixed': True, 'global': True, 'counties': None, 'launchYear': None, 'types': ['Public']}, {'date': '2017-12-25', 'localName': 'Weihnachten', 'name': 'Christmas Day', 'countryCode': 'AT', 'fixed': True, 'global': True, 'counties': None, 'launchYear': None, 'types': ['Public']}, {'date': '2017-12-26', 'localName': 'Stefanitag', 'name': \"St. Stephen's Day\", 'countryCode': 'AT', 'fixed': True, 'global': True, 'counties': None, 'launchYear': None, 'types': ['Public']}]\n"
     ]
    }
   ],
   "source": [
    "dictHolidayData = json.loads(r.text)\n",
    "print(dictHolidayData)"
   ]
  },
  {
   "cell_type": "code",
   "execution_count": 4,
   "id": "08f1cf31",
   "metadata": {},
   "outputs": [
    {
     "name": "stdout",
     "output_type": "stream",
     "text": [
      "{'date': '2017-01-01', 'localName': 'Neujahr', 'name': \"New Year's Day\", 'countryCode': 'AT', 'fixed': True, 'global': True, 'counties': None, 'launchYear': 1967, 'types': ['Public']}\n"
     ]
    }
   ],
   "source": [
    "print(dictHolidayData[0])"
   ]
  },
  {
   "cell_type": "code",
   "execution_count": 8,
   "id": "7ade15c3",
   "metadata": {},
   "outputs": [
    {
     "name": "stdout",
     "output_type": "stream",
     "text": [
      "Holiday Dates: Local Name:\n",
      "2017-01-01 Neujahr\n",
      "2017-01-06 Heilige Drei Könige\n",
      "2017-04-17 Ostermontag\n",
      "2017-05-01 Staatsfeiertag\n",
      "2017-05-25 Christi Himmelfahrt\n",
      "2017-06-05 Pfingstmontag\n",
      "2017-06-15 Fronleichnam\n",
      "2017-08-15 Maria Himmelfahrt\n",
      "2017-10-26 Nationalfeiertag\n",
      "2017-11-01 Allerheiligen\n",
      "2017-12-08 Mariä Empfängnis\n",
      "2017-12-25 Weihnachten\n",
      "2017-12-26 Stefanitag\n"
     ]
    }
   ],
   "source": [
    "print('Holiday Dates:', 'Local Name:')\n",
    "for date in dictHolidayData:\n",
    "    print(date['date'],date['localName'])"
   ]
  },
  {
   "cell_type": "code",
   "execution_count": null,
   "id": "572844ae",
   "metadata": {},
   "outputs": [],
   "source": []
  }
 ],
 "metadata": {
  "kernelspec": {
   "display_name": "Python 3 (ipykernel)",
   "language": "python",
   "name": "python3"
  },
  "language_info": {
   "codemirror_mode": {
    "name": "ipython",
    "version": 3
   },
   "file_extension": ".py",
   "mimetype": "text/x-python",
   "name": "python",
   "nbconvert_exporter": "python",
   "pygments_lexer": "ipython3",
   "version": "3.9.7"
  }
 },
 "nbformat": 4,
 "nbformat_minor": 5
}
